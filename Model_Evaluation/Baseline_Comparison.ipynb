{
 "cells": [
  {
   "cell_type": "code",
   "execution_count": null,
   "metadata": {},
   "outputs": [],
   "source": [
    "import numpy as np\n",
    "import pandas as pd\n",
    "from sklearn.metrics import mean_squared_error"
   ]
  },
  {
   "cell_type": "code",
   "execution_count": null,
   "metadata": {},
   "outputs": [],
   "source": [
    "df_energy = pd.read_csv(\"/Users/qingshuzhao/Documents/ML_PPI_project/training_dataset/training_set_3_11/top_504_iforest_dropout.csv\")\n",
    "df_energy = df_energy.dropna().reset_index(drop=True)\n",
    "# Add experimental binding energy\n",
    "df_energy['dG_exp'] = (1.98722*298.15*np.log(df_energy['kd_molar'])/1000)\n",
    "y_train=df_energy['dG_exp'].values\n",
    "print(y_train)"
   ]
  },
  {
   "cell_type": "code",
   "execution_count": 4,
   "metadata": {},
   "outputs": [],
   "source": [
    "df_PDBind = pd.read_csv(\"/Users/qingshuzhao/Documents/ML_PPI_project/training_results/top_504_PDBs_20250309_2241/PDBind_comparison.csv\")\n",
    "df_nanobody = pd.read_csv(\"/Users/qingshuzhao/Documents/ML_PPI_project/training_results/top_504_PDBs_20250309_2241/Nanobody_comparison.csv\")\n",
    "df_Nazmul = pd.read_csv(\"/Users/qingshuzhao/Documents/ML_PPI_project/training_results/top_504_PDBs_20250309_2241/Nazmul_comparison.csv\")"
   ]
  },
  {
   "cell_type": "code",
   "execution_count": 5,
   "metadata": {},
   "outputs": [
    {
     "name": "stdout",
     "output_type": "stream",
     "text": [
      "[-10.5   -8.31 -11.92  -8.95  -9.55 -10.85 -10.89 -13.06 -11.31  -7.05\n",
      "  -9.   -14.08 -13.14 -14.58 -10.2   -9.    -7.18 -11.8   -7.8  -10.16\n",
      " -10.59 -10.64  -8.37  -8.95  -9.42 -14.02  -6.78 -10.25  -9.27 -10.97\n",
      " -10.1  -11.58 -12.07 -10.08  -8.09  -9.99 -10.27  -9.73  -8.27 -11.52\n",
      "  -8.6   -7.95  -8.32  -8.19 -12.11]\n"
     ]
    }
   ],
   "source": [
    "exp_PDBind = df_PDBind['REAL'].values\n",
    "exp_nanobody = df_nanobody['REAL'].values\n",
    "exp_Nazmul = df_Nazmul['REAL'].values\n",
    "print(exp_PDBind)"
   ]
  },
  {
   "cell_type": "code",
   "execution_count": 6,
   "metadata": {},
   "outputs": [
    {
     "name": "stdout",
     "output_type": "stream",
     "text": [
      "[ -9.611544   -9.540731  -10.007715  -10.139776  -10.080409   -9.681791\n",
      "  -9.960272   -9.71303    -9.610195  -10.019461   -9.558855   -9.711616\n",
      "  -9.7540655  -9.641465   -9.73293    -9.837041   -9.827623  -10.088225\n",
      "  -9.640346   -9.618047   -9.595985   -9.681526   -9.638271   -9.69504\n",
      "  -9.742564   -9.987263   -9.700088   -9.5851     -9.6343355  -9.609354\n",
      "  -9.630075   -9.5655575  -9.613466   -9.663034   -9.741429   -9.564753\n",
      "  -9.54965    -9.578879   -9.745567   -9.759857   -9.836648   -9.906647\n",
      "  -9.910566   -9.998722   -9.928999 ]\n"
     ]
    }
   ],
   "source": [
    "pred_PDBind = df_PDBind['ANN_PREDICTED'].values\n",
    "pred_nanobody = df_nanobody['ANN_PREDICTED'].values\n",
    "pred_Nazmul = df_Nazmul['ANN_PREDICTED'].values\n",
    "print(pred_PDBind)"
   ]
  },
  {
   "cell_type": "markdown",
   "metadata": {},
   "source": [
    "# mean"
   ]
  },
  {
   "cell_type": "code",
   "execution_count": 7,
   "metadata": {},
   "outputs": [
    {
     "name": "stdout",
     "output_type": "stream",
     "text": [
      "\n",
      "--- PDBind Test Set ---\n",
      "Model RMSE: 1.9385\n",
      "Baseline RMSE: 1.9491\n",
      "Model performs better than baseline on PDBind.\n",
      "\n",
      "--- Nanobody Test Set ---\n",
      "Model RMSE: 2.3825\n",
      "Baseline RMSE: 2.5585\n",
      "Model performs better than baseline on Nanobody.\n",
      "\n",
      "--- Nazmul Test Set ---\n",
      "Model RMSE: 3.7492\n",
      "Baseline RMSE: 3.8090\n",
      "Model performs better than baseline on Nazmul.\n"
     ]
    }
   ],
   "source": [
    "# Compute the mean of the training target\n",
    "train_target_mean = np.mean(y_train)\n",
    "\n",
    "# Define test sets and predictions\n",
    "test_sets = {\n",
    "    \"PDBind\": exp_PDBind,\n",
    "    \"Nanobody\": exp_nanobody,\n",
    "    \"Nazmul\": exp_Nazmul\n",
    "}\n",
    "\n",
    "predictions = {\n",
    "    \"PDBind\": pred_PDBind,\n",
    "    \"Nanobody\": pred_nanobody,\n",
    "    \"Nazmul\": pred_Nazmul\n",
    "}\n",
    "\n",
    "# Loop over each test set and compare RMSE\n",
    "for name in test_sets:\n",
    "    y_test = test_sets[name]\n",
    "    y_pred = predictions[name]\n",
    "\n",
    "    # Create baseline predictions (training mean)\n",
    "    baseline_predictions = np.full_like(y_test, train_target_mean)\n",
    "\n",
    "    # Compute RMSE\n",
    "    rmse_model = np.sqrt(mean_squared_error(y_test, y_pred))\n",
    "    rmse_baseline = np.sqrt(mean_squared_error(y_test, baseline_predictions))\n",
    "\n",
    "    # Print results\n",
    "    print(f\"\\n--- {name} Test Set ---\")\n",
    "    print(f\"Model RMSE: {rmse_model:.4f}\")\n",
    "    print(f\"Baseline RMSE: {rmse_baseline:.4f}\")\n",
    "\n",
    "    # Check model performance\n",
    "    if rmse_model < rmse_baseline:\n",
    "        print(f\"Model performs better than baseline on {name}.\")\n",
    "    else:\n",
    "        print(f\"Model performs worse than baseline on {name}. Features might not be informative.\")"
   ]
  },
  {
   "cell_type": "markdown",
   "metadata": {},
   "source": [
    "# Linear "
   ]
  },
  {
   "cell_type": "code",
   "execution_count": 13,
   "metadata": {},
   "outputs": [
    {
     "name": "stdout",
     "output_type": "stream",
     "text": [
      "\n",
      "--- PDBind Test Set ---\n",
      "Neural Network Model RMSE: 1.9385\n",
      "Linear Regression Baseline RMSE: 168.6976\n",
      "Neural Network model outperforms Linear Regression on PDBind.\n",
      "\n",
      "--- Nanobody Test Set ---\n",
      "Neural Network Model RMSE: 2.3825\n",
      "Linear Regression Baseline RMSE: 219.6221\n",
      "Neural Network model outperforms Linear Regression on Nanobody.\n",
      "\n",
      "--- Nazmul Test Set ---\n",
      "Neural Network Model RMSE: 3.7492\n",
      "Linear Regression Baseline RMSE: 40.7329\n",
      "Neural Network model outperforms Linear Regression on Nazmul.\n"
     ]
    }
   ],
   "source": [
    "from sklearn.linear_model import LinearRegression\n",
    "from sklearn.metrics import mean_squared_error\n",
    "import numpy as np\n",
    "\n",
    "# Initialize the Linear Regression model\n",
    "baseline_model = LinearRegression()\n",
    "\n",
    "# Train using multiple features\n",
    "X_train = df_energy.drop(columns=['dG_exp', 'pdb_id', 'resolution', 'kd_molar'], axis=1) \n",
    "y_train = df_energy['dG_exp'].values\n",
    "baseline_model.fit(X_train, y_train)\n",
    "\n",
    "# Load test sets\n",
    "nanobody_data = pd.read_csv(\"/Users/qingshuzhao/Documents/ML_PPI_project/Paper/SI/validation_set/nanobody_testset.csv\")\n",
    "pdbind_data = pd.read_csv(\"/Users/qingshuzhao/Documents/ML_PPI_project/Paper/SI/validation_set/PDBind_testset.csv\")\n",
    "nazmul_data = pd.read_csv(\"/Users/qingshuzhao/Documents/ML_PPI_project/Paper/SI/validation_set/Nazmul_20_testset.csv\")\n",
    "\n",
    "# Prepare test features\n",
    "X_test_PDBind = pdbind_data.drop(columns=['experimental', 'packstat', 'SCORE:', 'yhh_planarity', 'description'], axis=1)\n",
    "X_test_nanobody = nanobody_data.drop(columns=['experimental', 'packstat', 'yhh_planarity', 'description'], axis=1)\n",
    "X_test_Nazmul = nazmul_data.drop(columns=['experimental', 'packstat', 'yhh_planarity', 'description'], axis=1)\n",
    "\n",
    "# Store test sets and expected values\n",
    "test_sets = {\n",
    "    \"PDBind\": (X_test_PDBind, exp_PDBind),\n",
    "    \"Nanobody\": (X_test_nanobody, exp_nanobody),\n",
    "    \"Nazmul\": (X_test_Nazmul, exp_Nazmul)\n",
    "}\n",
    "\n",
    "# Assume `predictions` contains neural network model predictions for each test set\n",
    "predictions = {\n",
    "    \"PDBind\": pred_PDBind,\n",
    "    \"Nanobody\": pred_nanobody,\n",
    "    \"Nazmul\": pred_Nazmul\n",
    "}\n",
    "\n",
    "# Compare neural network vs regression baseline\n",
    "for name, (X_test, y_test) in test_sets.items():\n",
    "    y_pred_regression = baseline_model.predict(X_test)\n",
    "    y_pred_nn = predictions[name]\n",
    "\n",
    "    # Compute RMSE\n",
    "    rmse_regression = np.sqrt(mean_squared_error(y_test, y_pred_regression))\n",
    "    rmse_nn = np.sqrt(mean_squared_error(y_test, y_pred_nn))\n",
    "\n",
    "    # Print results\n",
    "    print(f\"\\n--- {name} Test Set ---\")\n",
    "    print(f\"Neural Network Model RMSE: {rmse_nn:.4f}\")\n",
    "    print(f\"Linear Regression Baseline RMSE: {rmse_regression:.4f}\")\n",
    "\n",
    "    # Compare performance\n",
    "    if rmse_nn < rmse_regression:\n",
    "        print(f\"Neural Network model outperforms Linear Regression on {name}.\")\n",
    "    else:\n",
    "        print(f\"Linear Regression outperforms Neural Network on {name}.\")"
   ]
  }
 ],
 "metadata": {
  "kernelspec": {
   "display_name": "Python 3",
   "language": "python",
   "name": "python3"
  },
  "language_info": {
   "codemirror_mode": {
    "name": "ipython",
    "version": 3
   },
   "file_extension": ".py",
   "mimetype": "text/x-python",
   "name": "python",
   "nbconvert_exporter": "python",
   "pygments_lexer": "ipython3",
   "version": "3.9.6"
  }
 },
 "nbformat": 4,
 "nbformat_minor": 2
}
