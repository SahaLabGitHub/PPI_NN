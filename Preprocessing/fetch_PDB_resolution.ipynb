{
 "cells": [
  {
   "cell_type": "markdown",
   "metadata": {},
   "source": [
    "# extract PDB resolution"
   ]
  },
  {
   "cell_type": "code",
   "execution_count": null,
   "metadata": {},
   "outputs": [],
   "source": [
    "import pandas as pd\n",
    "import requests\n",
    "import time\n",
    "\n",
    "def get_pdb_resolution(pdb_id):\n",
    "    \"\"\"Query RCSB API for resolution of a given PDB ID.\"\"\"\n",
    "    url = f\"https://data.rcsb.org/rest/v1/core/entry/{pdb_id}\"\n",
    "    try:\n",
    "        response = requests.get(url)\n",
    "        response.raise_for_status()\n",
    "        data = response.json()\n",
    "        resolution = data.get(\"rcsb_entry_info\", {}).get(\"resolution_combined\", [None])[0]\n",
    "        return resolution\n",
    "    except Exception as e:\n",
    "        print(f\"Error fetching resolution for {pdb_id}: {e}\")\n",
    "        return None\n",
    "\n",
    "def extract_pdb_id(description):\n",
    "    \"\"\"Extract 4-character PDB ID from the description string.\"\"\"\n",
    "    return description.strip().split()[0].lower()\n",
    "\n",
    "def main(input_csv, output_csv):\n",
    "    # Load the CSV\n",
    "    df = pd.read_csv('/Users/qingshuzhao/Library/CloudStorage/OneDrive-SharedLibraries-UWM/Arjun Saha - qingshu_project/Paper/SI/validation_set/PDBind_testset.csv')\n",
    "\n",
    "    # Extract PDB IDs from the 'description' column\n",
    "    df[\"pdb_id\"] = df[\"description\"].apply(extract_pdb_id)\n",
    "\n",
    "    # Fetch resolution for each PDB ID\n",
    "    resolutions = []\n",
    "    for pdb_id in df[\"pdb_id\"]:\n",
    "        res = get_pdb_resolution(pdb_id)\n",
    "        resolutions.append(res)\n",
    "        time.sleep(0.2)  # polite delay to avoid hammering the API\n",
    "\n",
    "    # Add resolution column\n",
    "    df[\"resolution\"] = resolutions\n",
    "\n",
    "    # Save the updated CSV\n",
    "    df.to_csv('/Users/qingshuzhao/Library/CloudStorage/OneDrive-SharedLibraries-UWM/Arjun Saha - qingshu_project/Paper/SI/validation_set/PDBind_testset_resolution.csv', index=False)\n",
    "    print(f\"Done! Output written to {output_csv}\")\n",
    "\n",
    "if __name__ == \"__main__\":\n",
    "    input_csv_path = \"input.csv\"\n",
    "    output_csv_path = \"output_with_resolutions.csv\"\n",
    "    main(input_csv_path, output_csv_path)"
   ]
  }
 ],
 "metadata": {
  "language_info": {
   "name": "python"
  }
 },
 "nbformat": 4,
 "nbformat_minor": 2
}
